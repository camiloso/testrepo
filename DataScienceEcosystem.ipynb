{
 "cells": [
  {
   "cell_type": "markdown",
   "id": "75f574e4-c214-4b07-982a-c70042ca4e78",
   "metadata": {},
   "source": [
    "#Data Science Tools and Ecosystem"
   ]
  },
  {
   "cell_type": "markdown",
   "id": "0a012519-3fbd-4999-b391-5fbf5080b9db",
   "metadata": {},
   "source": [
    "In this notebook, data Science Tools and Ecosystem are summarized."
   ]
  },
  {
   "cell_type": "markdown",
   "id": "70a85df2-ed96-4898-bdb8-12d677139aab",
   "metadata": {},
   "source": [
    "**Objectives:**\n",
    "- List Data Science languages\n",
    "- List Data Science Libraries\n",
    "- List Data Science Tools"
   ]
  },
  {
   "cell_type": "markdown",
   "id": "aee45af6-b703-4f38-acc5-064096359db5",
   "metadata": {},
   "source": [
    "Some of the popular languages that Data Scientists use are:  \n",
    "1. Python.  \n",
    "2. R.  \n",
    "3. Java.  "
   ]
  },
  {
   "cell_type": "markdown",
   "id": "f2ef8ffd-a806-4371-9691-814548076f30",
   "metadata": {},
   "source": [
    "Some of the commonly used libraries used by Data Scientists include:  \n",
    "1. Pandas\n",
    "2. Numpy\n",
    "3. Scipy\n"
   ]
  },
  {
   "cell_type": "markdown",
   "id": "1e037ad5-6059-45c3-816f-0262f2af3a8e",
   "metadata": {},
   "source": [
    "|  Data Science Tools  | \n",
    "|----------------------|\n",
    "|  Visual Studio Code  |  \n",
    "|  Jupiter Notebook  |  \n",
    "| R Studio |  "
   ]
  },
  {
   "cell_type": "markdown",
   "id": "fefd812f-5ed2-498d-a3df-1f4a9b6174c7",
   "metadata": {},
   "source": [
    "Below are a few examples of evaluating arithmetic expressions in Python"
   ]
  },
  {
   "cell_type": "code",
   "execution_count": 21,
   "id": "9d444b51-2736-48ce-b674-d3455197e6ff",
   "metadata": {},
   "outputs": [
    {
     "data": {
      "text/plain": [
       "7"
      ]
     },
     "execution_count": 21,
     "metadata": {},
     "output_type": "execute_result"
    }
   ],
   "source": [
    "3+4"
   ]
  },
  {
   "cell_type": "code",
   "execution_count": 23,
   "id": "4710d5a7-c3fe-476a-ba1b-9bb7a5956e5b",
   "metadata": {},
   "outputs": [
    {
     "data": {
      "text/plain": [
       "1"
      ]
     },
     "execution_count": 23,
     "metadata": {},
     "output_type": "execute_result"
    }
   ],
   "source": [
    "4-3"
   ]
  },
  {
   "cell_type": "markdown",
   "id": "566e6b8a-4c0b-42d9-8ad8-c0f599962ee9",
   "metadata": {},
   "source": [
    "This a simple arithmetic expression to multiply then add integers"
   ]
  },
  {
   "cell_type": "code",
   "execution_count": 26,
   "id": "261cf27c-ed56-4d6f-bfa7-38b6bddfe741",
   "metadata": {},
   "outputs": [
    {
     "data": {
      "text/plain": [
       "17"
      ]
     },
     "execution_count": 26,
     "metadata": {},
     "output_type": "execute_result"
    }
   ],
   "source": [
    "(3*4)+5"
   ]
  },
  {
   "cell_type": "markdown",
   "id": "b9620f46-4d91-45c2-8031-c38cc251e03d",
   "metadata": {},
   "source": [
    "This will convert 200 minutes to hours by diving by 60"
   ]
  },
  {
   "cell_type": "code",
   "execution_count": 29,
   "id": "0d0ee1ed-9877-4653-91d1-10016b504f3d",
   "metadata": {},
   "outputs": [
    {
     "data": {
      "text/plain": [
       "3.3333333333333335"
      ]
     },
     "execution_count": 29,
     "metadata": {},
     "output_type": "execute_result"
    }
   ],
   "source": [
    "200/60"
   ]
  },
  {
   "cell_type": "markdown",
   "id": "34be3ef2-2aa9-47ce-891e-20f13df45d5d",
   "metadata": {},
   "source": [
    "## Author  \n",
    "Camilo Mendoza"
   ]
  },
  {
   "cell_type": "code",
   "execution_count": null,
   "id": "1df6bf02-9458-4557-aede-d052bec01b34",
   "metadata": {},
   "outputs": [],
   "source": []
  }
 ],
 "metadata": {
  "kernelspec": {
   "display_name": "Python [conda env:.conda-RP_Env]",
   "language": "python",
   "name": "conda-env-.conda-RP_Env-py"
  },
  "language_info": {
   "codemirror_mode": {
    "name": "ipython",
    "version": 3
   },
   "file_extension": ".py",
   "mimetype": "text/x-python",
   "name": "python",
   "nbconvert_exporter": "python",
   "pygments_lexer": "ipython3",
   "version": "3.12.8"
  }
 },
 "nbformat": 4,
 "nbformat_minor": 5
}
